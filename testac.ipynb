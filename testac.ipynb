{
 "cells": [
  {
   "cell_type": "code",
   "execution_count": null,
   "metadata": {},
   "outputs": [],
   "source": []
  },
  {
   "attachments": {},
   "cell_type": "markdown",
   "metadata": {},
   "source": [
    "# 文档\n",
    "https://pyahocorasick.readthedocs.io/en/latest/\n",
    "\n",
    "# 安装\n",
    "pip install pyahocorasick\n",
    "\n",
    "# 项目实战，0－1演示 工具库的使用"
   ]
  },
  {
   "cell_type": "code",
   "execution_count": 8,
   "metadata": {},
   "outputs": [],
   "source": [
    "import ahocorasick\n",
    "\n",
    "# 构建我们的领域\n",
    "def build_actree(wordlist):\n",
    "    actree = ahocorasick.Automaton()\n",
    "    for index,word in enumerate(wordlist):\n",
    "        actree.add_word(word,(index,word))\n",
    "    actree.make_automaton()\n",
    "    return actree\n",
    "\n",
    "# 特征（关键词－实体词）\n",
    "region_words = ['中国','百度','文心一言','OpenAI','GPT-4','ChatGPT']\n",
    "region_tree = build_actree(region_words)\n",
    "# query检索"
   ]
  },
  {
   "cell_type": "code",
   "execution_count": 16,
   "metadata": {},
   "outputs": [
    {
     "name": "stdout",
     "output_type": "stream",
     "text": [
      "query =  百度的文心一言和OpenAI的GPT-4 哪家更加强大\n",
      "query parser \n",
      "{'start': 0, 'offset': 1, 'term': '百度'}\n",
      "{'start': 3, 'offset': 6, 'term': '文心一言'}\n",
      "{'start': 8, 'offset': 13, 'term': 'OpenAI'}\n",
      "{'start': 15, 'offset': 19, 'term': 'GPT-4'}\n"
     ]
    }
   ],
   "source": [
    "query = \"百度的文心一言和OpenAI的GPT-4 哪家更加强大\"\n",
    "# \n",
    "\n",
    "region_wds = []\n",
    "for end_index, (insert_order, original_value) in region_tree.iter(query):\n",
    "    start_index = end_index - len(original_value) + 1\n",
    "    #print((start_index, end_index, original_value))\n",
    "    region_wds.append( {\"start\":start_index,\"offset\":end_index,\"term\":original_value} )\n",
    "\n",
    "\n",
    "print(\"query = \",query)\n",
    "print('query parser ')\n",
    "for data in region_wds:\n",
    "    print(data)\n"
   ]
  },
  {
   "cell_type": "code",
   "execution_count": null,
   "metadata": {},
   "outputs": [],
   "source": []
  }
 ],
 "metadata": {
  "kernelspec": {
   "display_name": "py3",
   "language": "python",
   "name": "python3"
  },
  "language_info": {
   "codemirror_mode": {
    "name": "ipython",
    "version": 3
   },
   "file_extension": ".py",
   "mimetype": "text/x-python",
   "name": "python",
   "nbconvert_exporter": "python",
   "pygments_lexer": "ipython3",
   "version": "3.8.16 (default, Mar  1 2023, 21:19:10) \n[Clang 14.0.6 ]"
  },
  "orig_nbformat": 4,
  "vscode": {
   "interpreter": {
    "hash": "a0a00a0d0fa07859b918786aac225490aa64f6c1aa47e3c9628d3291c88c67c3"
   }
  }
 },
 "nbformat": 4,
 "nbformat_minor": 2
}
